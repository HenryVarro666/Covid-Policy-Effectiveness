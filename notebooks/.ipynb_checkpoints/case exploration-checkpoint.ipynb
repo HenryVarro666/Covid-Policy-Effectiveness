{
 "cells": [
  {
   "cell_type": "markdown",
   "id": "a05dd5f8",
   "metadata": {},
   "source": [
    "# Cases Exploration and Error Finding \n",
    "The case data is sources from [CDC](https://data.cdc.gov/Case-Surveillance/United-States-COVID-19-Cases-and-Deaths-by-State-o/9mfq-cb36)\n",
    "and this notebook is built to explore the data and get a general sense of things present in the dataset. \n",
    "\n",
    "__It has 2 main goals__\n",
    "- Find out if there are any missing dates in the entire dataset for each of the states.\n",
    "- Confirm that the beginning and the end dates of each of the states is the same. \n",
    "\n",
    "\n",
    "\n",
    "<br/>\n",
    "<br/>\n",
    "<br/>\n",
    "<br/>\n",
    "\n",
    "_This notebook is a slice of life type thing and will probably save me a lot of time in the future_\n",
    "\n"
   ]
  },
  {
   "cell_type": "code",
   "execution_count": 73,
   "id": "33644c88",
   "metadata": {},
   "outputs": [],
   "source": [
    "import pandas as pd\n",
    "import json\n",
    "from collections import Counter"
   ]
  },
  {
   "cell_type": "code",
   "execution_count": 74,
   "id": "fa3fa80c",
   "metadata": {},
   "outputs": [],
   "source": [
    "case_df = pd.read_csv('../dataset/case_1121_cdc.csv',parse_dates=['submission_date'])"
   ]
  },
  {
   "cell_type": "markdown",
   "id": "bfba5735",
   "metadata": {},
   "source": [
    "## Making a report of the date ranges and missing date for covid cases "
   ]
  },
  {
   "cell_type": "code",
   "execution_count": 75,
   "id": "fe7613be",
   "metadata": {},
   "outputs": [
    {
     "data": {
      "text/html": [
       "<div>\n",
       "<style scoped>\n",
       "    .dataframe tbody tr th:only-of-type {\n",
       "        vertical-align: middle;\n",
       "    }\n",
       "\n",
       "    .dataframe tbody tr th {\n",
       "        vertical-align: top;\n",
       "    }\n",
       "\n",
       "    .dataframe thead th {\n",
       "        text-align: right;\n",
       "    }\n",
       "</style>\n",
       "<table border=\"1\" class=\"dataframe\">\n",
       "  <thead>\n",
       "    <tr style=\"text-align: right;\">\n",
       "      <th></th>\n",
       "      <th>submission_date</th>\n",
       "      <th>state</th>\n",
       "      <th>tot_cases</th>\n",
       "      <th>conf_cases</th>\n",
       "      <th>prob_cases</th>\n",
       "      <th>new_case</th>\n",
       "      <th>pnew_case</th>\n",
       "      <th>tot_death</th>\n",
       "      <th>conf_death</th>\n",
       "      <th>prob_death</th>\n",
       "      <th>new_death</th>\n",
       "      <th>pnew_death</th>\n",
       "      <th>created_at</th>\n",
       "      <th>consent_cases</th>\n",
       "      <th>consent_deaths</th>\n",
       "    </tr>\n",
       "  </thead>\n",
       "  <tbody>\n",
       "    <tr>\n",
       "      <th>0</th>\n",
       "      <td>2021-02-12</td>\n",
       "      <td>UT</td>\n",
       "      <td>359641</td>\n",
       "      <td>359641.0</td>\n",
       "      <td>0.0</td>\n",
       "      <td>1060</td>\n",
       "      <td>0.0</td>\n",
       "      <td>1785</td>\n",
       "      <td>1729.0</td>\n",
       "      <td>56.0</td>\n",
       "      <td>11</td>\n",
       "      <td>2.0</td>\n",
       "      <td>02/13/2021 02:50:08 PM</td>\n",
       "      <td>Agree</td>\n",
       "      <td>Agree</td>\n",
       "    </tr>\n",
       "    <tr>\n",
       "      <th>1</th>\n",
       "      <td>2021-03-01</td>\n",
       "      <td>CO</td>\n",
       "      <td>438745</td>\n",
       "      <td>411869.0</td>\n",
       "      <td>26876.0</td>\n",
       "      <td>677</td>\n",
       "      <td>60.0</td>\n",
       "      <td>5952</td>\n",
       "      <td>5218.0</td>\n",
       "      <td>734.0</td>\n",
       "      <td>1</td>\n",
       "      <td>0.0</td>\n",
       "      <td>03/01/2021 12:00:00 AM</td>\n",
       "      <td>Agree</td>\n",
       "      <td>Agree</td>\n",
       "    </tr>\n",
       "    <tr>\n",
       "      <th>2</th>\n",
       "      <td>2020-08-22</td>\n",
       "      <td>AR</td>\n",
       "      <td>56199</td>\n",
       "      <td>NaN</td>\n",
       "      <td>NaN</td>\n",
       "      <td>547</td>\n",
       "      <td>0.0</td>\n",
       "      <td>674</td>\n",
       "      <td>NaN</td>\n",
       "      <td>NaN</td>\n",
       "      <td>11</td>\n",
       "      <td>0.0</td>\n",
       "      <td>08/23/2020 02:15:28 PM</td>\n",
       "      <td>Not agree</td>\n",
       "      <td>Not agree</td>\n",
       "    </tr>\n",
       "    <tr>\n",
       "      <th>3</th>\n",
       "      <td>2020-08-12</td>\n",
       "      <td>AS</td>\n",
       "      <td>0</td>\n",
       "      <td>NaN</td>\n",
       "      <td>NaN</td>\n",
       "      <td>0</td>\n",
       "      <td>0.0</td>\n",
       "      <td>0</td>\n",
       "      <td>NaN</td>\n",
       "      <td>NaN</td>\n",
       "      <td>0</td>\n",
       "      <td>0.0</td>\n",
       "      <td>08/13/2020 02:12:28 PM</td>\n",
       "      <td>NaN</td>\n",
       "      <td>NaN</td>\n",
       "    </tr>\n",
       "    <tr>\n",
       "      <th>4</th>\n",
       "      <td>2020-06-05</td>\n",
       "      <td>HI</td>\n",
       "      <td>661</td>\n",
       "      <td>NaN</td>\n",
       "      <td>NaN</td>\n",
       "      <td>8</td>\n",
       "      <td>0.0</td>\n",
       "      <td>17</td>\n",
       "      <td>NaN</td>\n",
       "      <td>NaN</td>\n",
       "      <td>0</td>\n",
       "      <td>0.0</td>\n",
       "      <td>06/06/2020 10:31:37 AM</td>\n",
       "      <td>Not agree</td>\n",
       "      <td>Not agree</td>\n",
       "    </tr>\n",
       "  </tbody>\n",
       "</table>\n",
       "</div>"
      ],
      "text/plain": [
       "  submission_date state  tot_cases  conf_cases  prob_cases  new_case  \\\n",
       "0      2021-02-12    UT     359641    359641.0         0.0      1060   \n",
       "1      2021-03-01    CO     438745    411869.0     26876.0       677   \n",
       "2      2020-08-22    AR      56199         NaN         NaN       547   \n",
       "3      2020-08-12    AS          0         NaN         NaN         0   \n",
       "4      2020-06-05    HI        661         NaN         NaN         8   \n",
       "\n",
       "   pnew_case  tot_death  conf_death  prob_death  new_death  pnew_death  \\\n",
       "0        0.0       1785      1729.0        56.0         11         2.0   \n",
       "1       60.0       5952      5218.0       734.0          1         0.0   \n",
       "2        0.0        674         NaN         NaN         11         0.0   \n",
       "3        0.0          0         NaN         NaN          0         0.0   \n",
       "4        0.0         17         NaN         NaN          0         0.0   \n",
       "\n",
       "               created_at consent_cases consent_deaths  \n",
       "0  02/13/2021 02:50:08 PM         Agree          Agree  \n",
       "1  03/01/2021 12:00:00 AM         Agree          Agree  \n",
       "2  08/23/2020 02:15:28 PM     Not agree      Not agree  \n",
       "3  08/13/2020 02:12:28 PM           NaN            NaN  \n",
       "4  06/06/2020 10:31:37 AM     Not agree      Not agree  "
      ]
     },
     "execution_count": 75,
     "metadata": {},
     "output_type": "execute_result"
    }
   ],
   "source": [
    "case_df.head()"
   ]
  },
  {
   "cell_type": "code",
   "execution_count": 76,
   "id": "5f564619",
   "metadata": {},
   "outputs": [],
   "source": [
    "# unique states present in the dataset \n",
    "states = case_df['state'].unique()"
   ]
  },
  {
   "cell_type": "code",
   "execution_count": 77,
   "id": "1fbd1367",
   "metadata": {},
   "outputs": [
    {
     "name": "stdout",
     "output_type": "stream",
     "text": [
      "Number of States in the CDC Case Dataset = 60\n"
     ]
    }
   ],
   "source": [
    "print(f'Number of States in the CDC Case Dataset = {len(states)}')"
   ]
  },
  {
   "cell_type": "code",
   "execution_count": 78,
   "id": "99983161",
   "metadata": {},
   "outputs": [],
   "source": [
    "# This code block checks which states have any missing dates and then creates a report of it as a JSON file to be further inspected if needed\n",
    "\n",
    "STATE_REPORT = {}\n",
    "STATE_REPORT['state'] = []\n",
    "\n",
    "MIN_DATES = [] \n",
    "MAX_DATES = []\n",
    "\n",
    "for target_state in states: \n",
    "    # Set one state as the target for report generation \n",
    "    target_df = case_df[case_df['state']==target_state]\n",
    "    target_df = target_df.set_index('submission_date')\n",
    "    min_date = str(case_df_co.index.min()).split(' ')[0]\n",
    "    max_date = str(case_df_co.index.max()).split(' ')[0]\n",
    "    \n",
    "    missing_dates = pd.date_range(start=min_date, end=max_date).difference(target_df.index)\n",
    "    missing_dates_count = len(missing_dates)\n",
    "    \n",
    "    MIN_DATES.append(min_date)\n",
    "    MAX_DATES.append(max_date)\n",
    "    \n",
    "    if missing_dates_count > 0 :\n",
    "        print(f'Missing Dates in the state of {target_state}')\n",
    "    \n",
    "    STATE_REPORT['state'].append({\n",
    "    'State Name' : f'{target_state}',\n",
    "    'Start Date': f'{min_date}',\n",
    "    'End Date': f'{max_date}',\n",
    "    'Missing Date Count': f'{missing_dates_count}',\n",
    "    'Missing Dates': f'{missing_dates.date}'\n",
    "    })\n",
    "\n",
    "# Saving the report in the output folder \n",
    "with open('../outputs/STATE CASE CDC MISSING DATA REPORT.txt', 'w') as outfile:\n",
    "    json.dump(STATE_REPORT, outfile)\n",
    "    \n",
    "    \n",
    "    "
   ]
  },
  {
   "cell_type": "code",
   "execution_count": 79,
   "id": "45f9735a",
   "metadata": {},
   "outputs": [
    {
     "name": "stdout",
     "output_type": "stream",
     "text": [
      "All states have the same end date \n",
      "SUCCESS\n",
      "All states have the same start date \n",
      "SUCCESS\n"
     ]
    }
   ],
   "source": [
    "# This code block checks if all the states have the same start and end date \n",
    "if len(Counter(MAX_DATES)) == 1:\n",
    "    print('All states have the same end date ')\n",
    "    print('SUCCESS')\n",
    "\n",
    "if len(Counter(MIN_DATES)) == 1:\n",
    "    print('All states have the same start date ')\n",
    "    print('SUCCESS')\n",
    "    "
   ]
  },
  {
   "cell_type": "code",
   "execution_count": null,
   "id": "646b2740",
   "metadata": {},
   "outputs": [],
   "source": []
  },
  {
   "cell_type": "code",
   "execution_count": null,
   "id": "673426b2",
   "metadata": {},
   "outputs": [],
   "source": []
  },
  {
   "cell_type": "code",
   "execution_count": null,
   "id": "65c4085c",
   "metadata": {},
   "outputs": [],
   "source": []
  },
  {
   "cell_type": "code",
   "execution_count": null,
   "id": "b939b24f",
   "metadata": {},
   "outputs": [],
   "source": []
  }
 ],
 "metadata": {
  "kernelspec": {
   "display_name": "Python 3 (ipykernel)",
   "language": "python",
   "name": "python3"
  },
  "language_info": {
   "codemirror_mode": {
    "name": "ipython",
    "version": 3
   },
   "file_extension": ".py",
   "mimetype": "text/x-python",
   "name": "python",
   "nbconvert_exporter": "python",
   "pygments_lexer": "ipython3",
   "version": "3.9.7"
  }
 },
 "nbformat": 4,
 "nbformat_minor": 5
}
